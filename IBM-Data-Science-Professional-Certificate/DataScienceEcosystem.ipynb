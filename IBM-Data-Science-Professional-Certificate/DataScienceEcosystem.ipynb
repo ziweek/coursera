{
 "cells": [
  {
   "cell_type": "markdown",
   "id": "ad3983e2-f5a3-429e-9c60-dc15622abba8",
   "metadata": {},
   "source": [
    "# Data Science Tools and Ecosystem"
   ]
  },
  {
   "cell_type": "markdown",
   "id": "d7273094-328a-4a66-a136-1f565552eb05",
   "metadata": {},
   "source": [
    "In this notebook, Data Science Tools and Ecosystem are summarized."
   ]
  },
  {
   "cell_type": "markdown",
   "id": "d2ed6512-372a-41c2-a082-8677a4536663",
   "metadata": {},
   "source": [
    "Some of the popular languages that Data Scientists use are:\n",
    "1. Python\n",
    "2. R\n",
    "3. Julia"
   ]
  },
  {
   "cell_type": "markdown",
   "id": "06eafb73-eef7-4c3f-ac42-44fb5564400f",
   "metadata": {},
   "source": [
    "Some of the commonly used libraries used by Data Scientists include:\n",
    "\n",
    "1. NumPy\n",
    "2. Pandas\n",
    "3. Matplotlib"
   ]
  },
  {
   "cell_type": "markdown",
   "id": "1b455650-5931-4d24-8687-e52647c498a6",
   "metadata": {},
   "source": [
    "| Data Science Tools      |\n",
    "|-------------------------|\n",
    "| Jupyter Notebooks       |\n",
    "| RStudio                 |\n",
    "| VS Code with Python     |\n",
    " "
   ]
  },
  {
   "cell_type": "markdown",
   "id": "dd9c167e-07a4-42f0-877b-91e8b4674c82",
   "metadata": {},
   "source": [
    "### Below are a few examples of evaluating arithmetic expressions in Python"
   ]
  },
  {
   "cell_type": "code",
   "execution_count": 2,
   "id": "ae6ab20b-9226-4767-9f57-7b07a8d27107",
   "metadata": {},
   "outputs": [
    {
     "data": {
      "text/plain": [
       "17"
      ]
     },
     "execution_count": 2,
     "metadata": {},
     "output_type": "execute_result"
    }
   ],
   "source": [
    "# This is a simple arithmetic expression to multiply 3 by 4 and then add 5\n",
    "result = (3 * 4) + 5\n",
    "result"
   ]
  },
  {
   "cell_type": "code",
   "execution_count": 3,
   "id": "c7cc7fca-303d-4636-a3be-b9dfb5e368e5",
   "metadata": {},
   "outputs": [
    {
     "data": {
      "text/plain": [
       "3.3333333333333335"
      ]
     },
     "execution_count": 3,
     "metadata": {},
     "output_type": "execute_result"
    }
   ],
   "source": [
    "# This will convert 200 minutes to hours by dividing by 60\n",
    "hours = 200 / 60\n",
    "hours"
   ]
  },
  {
   "cell_type": "markdown",
   "id": "336e2d9c-be3e-4873-9c3a-cee3ea445a63",
   "metadata": {},
   "source": [
    "**Objectives:**\n",
    "\n",
    "- List popular languages for Data Science.\n",
    "- Understand the importance of version control in collaborative projects.\n",
    "- Demonstrate basic arithmetic operations in Python.\n",
    "- Create and execute code cells in a Jupyter Notebook.\n",
    "- Convert units in Python, such as converting minutes to hours.\n"
   ]
  },
  {
   "cell_type": "markdown",
   "id": "ac6b2a0e-8038-4be6-8bf0-0ee7e038b246",
   "metadata": {},
   "source": [
    "## Author\n",
    "\n",
    "KIM, JIUK"
   ]
  }
 ],
 "metadata": {
  "kernelspec": {
   "display_name": "Python 3 (ipykernel)",
   "language": "python",
   "name": "python3"
  },
  "language_info": {
   "codemirror_mode": {
    "name": "ipython",
    "version": 3
   },
   "file_extension": ".py",
   "mimetype": "text/x-python",
   "name": "python",
   "nbconvert_exporter": "python",
   "pygments_lexer": "ipython3",
   "version": "3.10.9"
  }
 },
 "nbformat": 4,
 "nbformat_minor": 5
}
